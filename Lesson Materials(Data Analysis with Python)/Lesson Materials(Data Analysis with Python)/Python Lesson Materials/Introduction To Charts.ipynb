{
 "cells": [
  {
   "cell_type": "markdown",
   "id": "af2ea61e",
   "metadata": {},
   "source": [
    "# Bar Charts"
   ]
  },
  {
   "cell_type": "code",
   "execution_count": null,
   "id": "9c4a949c",
   "metadata": {},
   "outputs": [],
   "source": [
    "# Create a Pandas series from a list of values (\"[]\") and plot it:\n",
    "import pandas as pd\n",
    "pd.Series([60, 50, 40, 30, 20]).plot(kind=\"bar\")"
   ]
  },
  {
   "cell_type": "code",
   "execution_count": null,
   "id": "a280e8aa",
   "metadata": {},
   "outputs": [],
   "source": [
    "# Create a data frame with one column, \"ages\"\n",
    "import pandas as pd\n",
    "plotdata = pd.DataFrame({\"ages\": [60, 50, 40, 30, 20]})\n",
    "plotdata.plot(kind=\"bar\")"
   ]
  },
  {
   "cell_type": "code",
   "execution_count": null,
   "id": "b67e310f",
   "metadata": {},
   "outputs": [],
   "source": [
    "# Create a sample dataframe with index\n",
    "import pandas as pd\n",
    "plotdata = pd.DataFrame(\n",
    "    {\"ages\": [60, 50, 40, 30, 20]}, \n",
    "    index=[\"Ada\", \"Bola\", \"Caro\", \"David\", \"Emily\"])\n",
    "plotdata.plot(kind=\"bar\")"
   ]
  },
  {
   "cell_type": "code",
   "execution_count": null,
   "id": "a216be8b",
   "metadata": {},
   "outputs": [],
   "source": [
    "# Create a sample dataframe with index with another color (black)\n",
    "import pandas as pd\n",
    "plotdata = pd.DataFrame(\n",
    "    {\"ages\": [60, 50, 40, 30, 20]}, \n",
    "    index=[\"Ada\", \"Bola\", \"Caro\", \"David\", \"Emily\"])\n",
    "plotdata.plot(kind=\"bar\", color =\"red\")"
   ]
  },
  {
   "cell_type": "code",
   "execution_count": null,
   "id": "3edb439f",
   "metadata": {},
   "outputs": [],
   "source": [
    "# Create a sample dataframe with proper labelling\n",
    "import pandas as pd\n",
    "from matplotlib import pyplot as plt\n",
    "\n",
    "plotdata = pd.DataFrame(\n",
    "    {\"ages\": [10, 10, 42, 17, 37]}, \n",
    "    index=[\"Ada\", \"Bola\", \"Caro\", \"David\", \"Emily\"])\n",
    "plotdata.plot(kind=\"bar\")\n",
    "\n",
    "plt.title(\"Sample Age of 5 Students\")\n",
    "plt.xlabel(\"Students\")\n",
    "plt.ylabel(\"Age\")"
   ]
  },
  {
   "cell_type": "code",
   "execution_count": null,
   "id": "a3999ddf",
   "metadata": {},
   "outputs": [],
   "source": [
    "# Create a DataFrame with 3 columns:\n",
    "import pandas as pd\n",
    "from matplotlib import pyplot as plt\n",
    "plotdata = pd.DataFrame({\n",
    "    \"2021\":[40, 12, 10, 26, 36],\n",
    "    \"2022\":[19, 8, 30, 21, 38],\n",
    "    \"2023\":[10, 10, 42, 17, 37]\n",
    "    }, \n",
    "    index=[\"Ada\", \"Bola\", \"Caro\", \"David\", \"Emily\"])\n",
    "plotdata.head()\n",
    "\n"
   ]
  },
  {
   "cell_type": "code",
   "execution_count": null,
   "id": "2d958755",
   "metadata": {},
   "outputs": [],
   "source": [
    "# Create a DataFrame with 3 columns:\n",
    "import pandas as pd\n",
    "from matplotlib import pyplot as plt\n",
    "plotdata = pd.DataFrame({\n",
    "    \"2021\":[40, 12, 10, 26, 36],\n",
    "    \"2022\":[19, 8, 30, 21, 38],\n",
    "    \"2023\":[10, 10, 42, 17, 37]\n",
    "    }, \n",
    "    index=[\"Ada\", \"Bola\", \"Caro\", \"David\", \"Emily\"])\n",
    "plotdata.head()\n",
    "\n",
    "#Plot the (Unstacked) Bar Chart\n",
    "plotdata.plot(kind=\"bar\")\n",
    "\n",
    "plt.title(\"Sample Age of 5 Students\")\n",
    "plt.xlabel(\"Students\")\n",
    "plt.ylabel(\"Age\")"
   ]
  },
  {
   "cell_type": "code",
   "execution_count": null,
   "id": "5cbb4337",
   "metadata": {},
   "outputs": [],
   "source": [
    "#Create a DataFrame with 3 columns:\n",
    "import pandas as pd\n",
    "from matplotlib import pyplot as plt\n",
    "plotdata = pd.DataFrame({\n",
    "    \"2021\":[40, 12, 10, 26, 36],\n",
    "    \"2022\":[19, 8, 30, 21, 38],\n",
    "    \"2023\":[10, 10, 42, 17, 37]\n",
    "    }, \n",
    "    index=[\"Ada\", \"Bola\", \"Caro\", \"David\", \"Emily\"])\n",
    "plotdata.head()\n",
    "\n",
    "#Plot the (Stacked) Bar Chart\n",
    "plotdata.plot(kind=\"bar\",stacked=True)\n",
    "\n",
    "plt.title(\"Sample Age of 5 Students\")\n",
    "plt.xlabel(\"Students\")\n",
    "plt.ylabel(\"Age\")"
   ]
  },
  {
   "cell_type": "code",
   "execution_count": null,
   "id": "2ab57fb5",
   "metadata": {},
   "outputs": [],
   "source": []
  },
  {
   "cell_type": "markdown",
   "id": "dadd100d",
   "metadata": {},
   "source": [
    "# Pie Chart"
   ]
  },
  {
   "cell_type": "code",
   "execution_count": null,
   "id": "b48bc6cd",
   "metadata": {},
   "outputs": [],
   "source": [
    "# Create a data frame with one column, \"ages\"\n",
    "import pandas as pd\n",
    "plotdata = pd.DataFrame({\"ages\": [60, 50, 40, 30, 20]})\n",
    "plotdata.plot(kind=\"pie\", y = 'ages')"
   ]
  },
  {
   "cell_type": "code",
   "execution_count": null,
   "id": "cc87de4a",
   "metadata": {},
   "outputs": [],
   "source": [
    "# Create a sample dataframe with index\n",
    "import pandas as pd\n",
    "plotdata = pd.DataFrame(\n",
    "    {\"ages\": [60, 50, 40, 30, 20]}, \n",
    "    index=[\"Ada\", \"Bola\", \"Caro\", \"David\", \"Emily\"])\n",
    "plotdata.plot(kind=\"pie\", y = 'ages')"
   ]
  },
  {
   "cell_type": "code",
   "execution_count": null,
   "id": "e6cfec08",
   "metadata": {},
   "outputs": [],
   "source": [
    "import pandas as pd\n",
    "  \n",
    "# DataFrame of each sales rep\n",
    "dataframe = pd.DataFrame({'Name': ['Awesome', 'Awesome', 'Awesome',\n",
    "                                   'Awesome', 'Awesome', 'Mensah', \n",
    "                                   'Mensah', 'Mensah', 'Mensah', 'Mensah',\n",
    "                                   'Joyce', 'Joyce', 'Joyce',\n",
    "                                   'Joyce', 'Joyce'],\n",
    "                          'Sales($)': [12, 9, 17, 19, 20, \n",
    "                                                  11, 15, 12, 9, 4, \n",
    "                                                  22, 19, 17, 19, 18]})\n",
    "  \n",
    "#dataframe\n",
    "dataframe.groupby(['Name']).sum().plot(kind='pie', y='Sales($)')"
   ]
  },
  {
   "cell_type": "code",
   "execution_count": null,
   "id": "9c4764a5",
   "metadata": {},
   "outputs": [],
   "source": [
    "#Percentage Data label\n",
    "import pandas as pd\n",
    "  \n",
    "# DataFrame of each sales rep\n",
    "dataframe = pd.DataFrame({'Name': ['Awesome', 'Awesome', 'Awesome',\n",
    "                                   'Awesome', 'Awesome', 'Mensah', \n",
    "                                   'Mensah', 'Mensah', 'Mensah', 'Mensah',\n",
    "                                   'Joyce', 'Joyce', 'Joyce',\n",
    "                                   'Joyce', 'Joyce'],\n",
    "                          'Sales($)': [12, 9, 17, 19, 20, \n",
    "                                                  11, 15, 12, 9, 4, \n",
    "                                                  22, 19, 17, 19, 18]})\n",
    "  \n",
    "dataframe.groupby(['Name']).sum().plot(kind='pie', y='Sales($)',autopct='%1.0f%%')"
   ]
  }
 ],
 "metadata": {
  "kernelspec": {
   "display_name": "Python 3 (ipykernel)",
   "language": "python",
   "name": "python3"
  },
  "language_info": {
   "codemirror_mode": {
    "name": "ipython",
    "version": 3
   },
   "file_extension": ".py",
   "mimetype": "text/x-python",
   "name": "python",
   "nbconvert_exporter": "python",
   "pygments_lexer": "ipython3",
   "version": "3.10.9"
  }
 },
 "nbformat": 4,
 "nbformat_minor": 5
}
