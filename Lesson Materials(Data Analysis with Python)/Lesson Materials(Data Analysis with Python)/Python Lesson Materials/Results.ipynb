{
 "cells": [
  {
   "cell_type": "code",
   "execution_count": null,
   "id": "ecfc79ea",
   "metadata": {},
   "outputs": [],
   "source": [
    "import pandas as pd\n",
    "df = pd.read_excel(\"Results.xlsx\")\n",
    "df\n",
    "del df[\"Total(100)\"]\n",
    "del df[\"Grade\"]\n",
    "del df[\"Comment\"]\n",
    "df\n",
    "\n",
    "df[\"Total(100)\"] = df[\"Exam(65)\"]+df[\"Midterm(20)\"]+df[\"C.A(15)\"]\n",
    "df\n",
    "\n",
    "#80-100, A\n",
    "#70-79, B\n",
    "#60-69, C\n",
    "#55-59, D\n",
    "#50-54, E\n",
    "#0-49, F\n",
    "\n",
    "df[\"Grade\"] =df[\"Total(100)\"].apply(lambda x: 'A' if x>=80 else 'B' if x>=70 else 'C' if x >=60 else 'D'if x>=55 else 'E' if x>=50 else 'F')\n",
    "df\n",
    "\n",
    "decimals = 2\n",
    "df[\"Exam(65)\"] = df[\"Exam(65)\"].apply(lambda x: round (x, decimals))\n",
    "df\n",
    "\n",
    "df=df.round(decimals=1)\n",
    "df\n",
    "\n",
    "df.to_excel(\"Results Analysed.xlsx\",index = False)\n",
    "df\n",
    "#How to count the grades\n",
    "#df[\"Grade\"].value_counts()\n",
    "df\n",
    "#How to get the sum,count,mean, std, max,min of a coloumn\n",
    "#df[\"Total(100)\"].sum()\n",
    "#df[\"Total(100)\"].count()\n",
    "#df[\"Total(100)\"].std()\n",
    "#df[\"Total(100)\"].max()\n",
    "df[\"Total(100)\"].min()"
   ]
  },
  {
   "cell_type": "code",
   "execution_count": null,
   "id": "0eb6f78b",
   "metadata": {},
   "outputs": [],
   "source": []
  }
 ],
 "metadata": {
  "kernelspec": {
   "display_name": "Python 3 (ipykernel)",
   "language": "python",
   "name": "python3"
  },
  "language_info": {
   "codemirror_mode": {
    "name": "ipython",
    "version": 3
   },
   "file_extension": ".py",
   "mimetype": "text/x-python",
   "name": "python",
   "nbconvert_exporter": "python",
   "pygments_lexer": "ipython3",
   "version": "3.10.9"
  }
 },
 "nbformat": 4,
 "nbformat_minor": 5
}
