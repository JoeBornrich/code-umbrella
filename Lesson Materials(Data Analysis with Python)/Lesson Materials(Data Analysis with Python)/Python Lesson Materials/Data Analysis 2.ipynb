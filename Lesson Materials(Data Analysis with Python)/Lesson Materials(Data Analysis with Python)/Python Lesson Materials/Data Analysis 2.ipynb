{
 "cells": [
  {
   "cell_type": "code",
   "execution_count": null,
   "id": "06cd88f2",
   "metadata": {},
   "outputs": [],
   "source": [
    "import pandas as pd\n",
    "df = pd.read_excel('AR Data1.xlsx')\n",
    "df[\"Month\"] = df[\"Order Date\"].apply(lambda x : x. strftime('%B'))\n",
    "df[\"Year\"] = df[\"Order Date\"].apply(lambda x : x. strftime('%Y'))\n",
    "df"
   ]
  },
  {
   "cell_type": "code",
   "execution_count": null,
   "id": "597b8791",
   "metadata": {},
   "outputs": [],
   "source": [
    "df"
   ]
  },
  {
   "cell_type": "markdown",
   "id": "a9f15494",
   "metadata": {},
   "source": [
    "# FILTERS"
   ]
  },
  {
   "cell_type": "code",
   "execution_count": 144,
   "id": "7d571916",
   "metadata": {},
   "outputs": [],
   "source": [
    "#Filter by a single Products\n",
    "#df.query(\"Products == 'Pin Charger'\")"
   ]
  },
  {
   "cell_type": "code",
   "execution_count": 145,
   "id": "d9ae87a5",
   "metadata": {},
   "outputs": [],
   "source": [
    "#Other Products Except Pin Charger\n",
    "#df.query(\"Products !='Pin Charger'\")"
   ]
  },
  {
   "cell_type": "code",
   "execution_count": 146,
   "id": "4f2f0f69",
   "metadata": {},
   "outputs": [],
   "source": [
    "#Two types of Products( Type A Charger & Pin Charger)\n",
    "#df.query(\"Products in ('Type A Charger','Pin Charger')\")"
   ]
  },
  {
   "cell_type": "code",
   "execution_count": 147,
   "id": "443c78f3",
   "metadata": {},
   "outputs": [],
   "source": [
    "#Profit Greater than N-value\n",
    "#df.query(\"`Profit` >= 2000\") "
   ]
  },
  {
   "cell_type": "code",
   "execution_count": 148,
   "id": "8f245438",
   "metadata": {},
   "outputs": [],
   "source": [
    "#Profit between N-Values\n",
    "#df.query(\"`Profit` >= 2000 and `Profit` <= 7000\" )"
   ]
  },
  {
   "cell_type": "code",
   "execution_count": 149,
   "id": "85edc93a",
   "metadata": {},
   "outputs": [],
   "source": [
    "#Filter between Dates\n",
    "#df.query(\"`Order Date` >= '2022-02-01' and `Order Date` <= '2022-05-31'\" )"
   ]
  },
  {
   "cell_type": "code",
   "execution_count": 98,
   "id": "dc1026aa",
   "metadata": {},
   "outputs": [],
   "source": [
    "#Filter in ember months\n",
    "fff=df[df[\"Month\"].str.contains(\"mber\")]\n",
    "fff.to_excel(\"Filter mber.xlsx\",index= False)\n"
   ]
  },
  {
   "cell_type": "markdown",
   "id": "223ad937",
   "metadata": {},
   "source": [
    "# Multiple Condition Filtering"
   ]
  },
  {
   "cell_type": "code",
   "execution_count": null,
   "id": "5a4166ae",
   "metadata": {},
   "outputs": [],
   "source": [
    "#Details for Countries; Nigeria, Products; Type A Charger\n",
    "df.query(\"`Countries` == 'Nigeria' and `Products` == 'Type A Charger'\" )"
   ]
  },
  {
   "cell_type": "code",
   "execution_count": null,
   "id": "c2bec2f5",
   "metadata": {},
   "outputs": [],
   "source": [
    "#Details for Countries; Nigeria, Revenues >2000\n",
    "\n",
    "df.query(\"`Countries` == 'Nigeria' and `Revenues`> 2000 \" )"
   ]
  },
  {
   "cell_type": "code",
   "execution_count": null,
   "id": "ffe82cf0",
   "metadata": {},
   "outputs": [],
   "source": [
    "#Details of Cost, Profit and Products\n",
    "\n",
    "#df.query(\"`Costs`>=1000 and `Profit` <3000 and `Products` =='Type A Charger'\" )\n",
    "df.query(\"`Costs`>=1000 and `Profit` <3000 and `Products` in('Type A Charger', 'Pin Charger')\" )"
   ]
  },
  {
   "cell_type": "code",
   "execution_count": null,
   "id": "80e0e96d",
   "metadata": {},
   "outputs": [],
   "source": [
    "#Profits between Dates\n",
    "df.query(\"`Profit` >3000 and `Order Date` >= '2022-02-01' and `Order Date` <= '2022-05-31'\" )"
   ]
  },
  {
   "cell_type": "code",
   "execution_count": null,
   "id": "62023392",
   "metadata": {},
   "outputs": [],
   "source": [
    "#Profits in mber months\n",
    "#df.query(\"`Profit` > 3000 and `Order Date` >= '2022-02-01' and `Order Date` <= '2022-05-31'\" )\n",
    "#`Products` in('Type A Charger', 'Pin Charger')\n",
    "\n",
    "df.query(\"`Profit` > 3000 and `Month` in('September','October', 'November', 'December')\" )"
   ]
  },
  {
   "cell_type": "code",
   "execution_count": null,
   "id": "f7a01ec4",
   "metadata": {},
   "outputs": [],
   "source": [
    "df.query(\"`Profit` > 3000 and `Order Date` > '2021-08-31' and `Order Date` > '2022-08-31'  \" )"
   ]
  },
  {
   "cell_type": "markdown",
   "id": "d8b9a12d",
   "metadata": {},
   "source": [
    "# Pivot Table"
   ]
  },
  {
   "cell_type": "code",
   "execution_count": null,
   "id": "6b8dbbd3",
   "metadata": {},
   "outputs": [],
   "source": [
    "import pandas as pd\n",
    "df = pd.read_excel('AR Data1.xlsx')\n",
    "df[\"Month\"] = df[\"Order Date\"].apply(lambda x : x. strftime('%B'))\n",
    "df[\"Year\"] = df[\"Order Date\"].apply(lambda x : x. strftime('%Y'))\n",
    "df"
   ]
  },
  {
   "cell_type": "code",
   "execution_count": null,
   "id": "14384652",
   "metadata": {},
   "outputs": [],
   "source": [
    "#Summary of the Products\n",
    "df.pivot_table(index = \"Products\",\n",
    "              aggfunc = \"sum\")"
   ]
  },
  {
   "cell_type": "code",
   "execution_count": null,
   "id": "84048f32",
   "metadata": {},
   "outputs": [],
   "source": [
    "#Summary of  Profit by Products\n",
    "df.pivot_table(index = \"Products\",\n",
    "               values = \"Profit\",\n",
    "              aggfunc = \"sum\")"
   ]
  },
  {
   "cell_type": "code",
   "execution_count": null,
   "id": "0c28a917",
   "metadata": {},
   "outputs": [],
   "source": [
    "#Summary of  Profit, Revenues by Products\n",
    "df.pivot_table(index = \"Products\",\n",
    "               values = [\"Profit\",\"Revenues\"],\n",
    "              aggfunc = \"sum\")"
   ]
  },
  {
   "cell_type": "code",
   "execution_count": null,
   "id": "b35d9247",
   "metadata": {},
   "outputs": [],
   "source": [
    "#Summary of  Profit by Products and Countries\n",
    "df.pivot_table(index = \"Products\",\n",
    "               columns = \"Countries\",\n",
    "               values = \"Profit\",\n",
    "              aggfunc = \"sum\")"
   ]
  },
  {
   "cell_type": "code",
   "execution_count": null,
   "id": "e767f267",
   "metadata": {},
   "outputs": [],
   "source": [
    "#Summary of  Profit, Revenue by Products and Countries\n",
    "df.pivot_table(index = \"Products\",\n",
    "               columns = \"Countries\",\n",
    "               values = [\"Profit\",\"Revenues\"],\n",
    "              aggfunc = \"sum\")"
   ]
  },
  {
   "cell_type": "code",
   "execution_count": null,
   "id": "13d445c7",
   "metadata": {},
   "outputs": [],
   "source": [
    "#Summary of  Profit, by Month and Year\n",
    "df.pivot_table(index = \"Month\",\n",
    "               columns = \"Year\",\n",
    "               values = \"Profit\",\n",
    "              aggfunc = \"sum\")\n"
   ]
  },
  {
   "cell_type": "code",
   "execution_count": null,
   "id": "f2ba9a49",
   "metadata": {},
   "outputs": [],
   "source": [
    "df.pivot_table(index = \"Countries\",\n",
    "               columns = \"Products\",\n",
    "               values = \"Profit\",\n",
    "              aggfunc = \"sum\")"
   ]
  },
  {
   "cell_type": "code",
   "execution_count": null,
   "id": "aaa8dba3",
   "metadata": {
    "scrolled": true
   },
   "outputs": [],
   "source": [
    "df.pivot_table(index = \"Products\",\n",
    "               columns = \"Countries\",\n",
    "               values = \"Profit\",\n",
    "              aggfunc = \"count\")"
   ]
  },
  {
   "cell_type": "code",
   "execution_count": null,
   "id": "39005116",
   "metadata": {},
   "outputs": [],
   "source": [
    "#Summary of  Profit, by Month and Year\n",
    "\n",
    "df.pivot_table(index = \"Month\",\n",
    "               columns = \"Year\",\n",
    "               values = \"Profit\",\n",
    "              aggfunc = \"sum\")\n"
   ]
  },
  {
   "cell_type": "code",
   "execution_count": null,
   "id": "51a722e0",
   "metadata": {},
   "outputs": [],
   "source": [
    "#To sort Month in Descending order\n",
    "dfpivot = df.pivot_table(index = \"Month\",\n",
    "               columns = \"Year\",\n",
    "               values = \"Profit\",\n",
    "              aggfunc = \"sum\")\n",
    "dfpivot.sort_values(by=['Month'], ascending = False)"
   ]
  },
  {
   "cell_type": "code",
   "execution_count": null,
   "id": "c0369fae",
   "metadata": {},
   "outputs": [],
   "source": [
    "#To sort Month in Order of Jannuary - December\n",
    "dfpivot = df.pivot_table(index = \"Month\",\n",
    "               columns = \"Year\",\n",
    "               values = \"Profit\",\n",
    "              aggfunc = \"sum\")\n",
    "month_dict ={'January':1,'February':2,'March':3,'April':4,'May':5,'June':6,'July':7,'August':8,'September':9,'October':10,'November':11,'December':12}\n",
    "dftable = dfpivot.sort_values('Month', key = lambda x : x.apply(lambda x : month_dict[x]))\n",
    "dftable"
   ]
  },
  {
   "cell_type": "markdown",
   "id": "a7e03670",
   "metadata": {},
   "source": [
    "# Charts from Pivot Table"
   ]
  },
  {
   "cell_type": "code",
   "execution_count": null,
   "id": "99a1bd8f",
   "metadata": {},
   "outputs": [],
   "source": [
    "#Recall the DataSet\n",
    "import pandas as pd\n",
    "df = pd.read_excel('AR Data1.xlsx')\n",
    "df[\"Month\"] = df[\"Order Date\"].apply(lambda x : x. strftime('%B'))\n",
    "df[\"Year\"] = df[\"Order Date\"].apply(lambda x : x. strftime('%Y'))\n",
    "df"
   ]
  },
  {
   "cell_type": "code",
   "execution_count": null,
   "id": "4a46d188",
   "metadata": {},
   "outputs": [],
   "source": [
    "#Column Chart of  Profit by Products without labelling\n",
    "\n",
    "barchart=df.pivot_table(index = \"Products\",\n",
    "               values = \"Profit\",\n",
    "              aggfunc = \"sum\")\n",
    "\n",
    "barchart.plot(kind = \"bar\")"
   ]
  },
  {
   "cell_type": "code",
   "execution_count": null,
   "id": "2d105fad",
   "metadata": {},
   "outputs": [],
   "source": [
    "#Column Chart of  Profit by Products with labelling\n",
    "from matplotlib import pyplot as plt\n",
    "barchart=df.pivot_table(index = \"Products\",\n",
    "               values = \"Profit\",\n",
    "              aggfunc = \"sum\")\n",
    "\n",
    "barchart.plot(kind=\"bar\")\n",
    "\n",
    "plt.title(\"Profit by Products\")\n",
    "plt.xlabel(\"Profits\")\n",
    "plt.ylabel(\"Products\")"
   ]
  },
  {
   "cell_type": "code",
   "execution_count": null,
   "id": "578bb329",
   "metadata": {},
   "outputs": [],
   "source": [
    "#Bar Chart of  Profit by Products with labelling\n",
    "from matplotlib import pyplot as plt\n",
    "barchart=df.pivot_table(index = \"Month\",\n",
    "               values = \"Profit\",\n",
    "              aggfunc = \"sum\")\n",
    "\n",
    "barchart.plot(kind=\"barh\")\n",
    "\n",
    "plt.title(\"Profit by Month\")\n",
    "plt.xlabel(\"Profit\")\n",
    "plt.ylabel(\"Products\")"
   ]
  },
  {
   "cell_type": "code",
   "execution_count": null,
   "id": "944bcdad",
   "metadata": {},
   "outputs": [],
   "source": [
    "#Pie Chart of  Profit by Products with labelling\n",
    "from matplotlib import pyplot as plt\n",
    "piechart=df.pivot_table(index = \"Countries\",\n",
    "               values = \"Revenues\",\n",
    "              aggfunc = \"sum\")\n",
    "\n",
    "piechart.plot(kind=\"pie\", y='Revenues',autopct='%1.0f%%')\n",
    "\n",
    "plt.title(\"Revenues by Counries\")"
   ]
  },
  {
   "cell_type": "code",
   "execution_count": null,
   "id": "2d471f48",
   "metadata": {},
   "outputs": [],
   "source": [
    "#Sorted Coloumn Chart\n",
    "from matplotlib import pyplot as plt\n",
    "dfpivot = df.pivot_table(index = \"Month\",\n",
    "                       values = \"Profit\",\n",
    "              aggfunc = \"sum\")\n",
    "month_dict ={'January':1,'February':2,'March':3,'April':4,'May':5,'June':6,'July':7,'August':8,'September':9,'October':10,'November':11,'December':12}\n",
    "dftable = dfpivot.sort_values('Month', key = lambda x : x.apply(lambda x : month_dict[x]))\n",
    "dftable.plot(kind =\"bar\")\n",
    "\n",
    "plt.title(\"Profit by Month\")\n",
    "plt.xlabel(\"Months\")\n",
    "plt.ylabel(\"Profit\")"
   ]
  },
  {
   "cell_type": "code",
   "execution_count": null,
   "id": "cc1b9b4c",
   "metadata": {},
   "outputs": [],
   "source": [
    "#Line Chart\n",
    "#Sorted Coloumn Chart\n",
    "from matplotlib import pyplot as plt\n",
    "dfpivot = df.pivot_table(index = \"Month\",\n",
    "                       values = \"Profit\",\n",
    "              aggfunc = \"sum\")\n",
    "month_dict ={'January':1,'February':2,'March':3,'April':4,'May':5,'June':6,'July':7,'August':8,'September':9,'October':10,'November':11,'December':12}\n",
    "dftable = dfpivot.sort_values('Month', key = lambda x : x.apply(lambda x : month_dict[x]))\n",
    "dftable.plot.line()\n",
    "\n",
    "plt.title(\"Profit by Month\")\n",
    "plt.xlabel(\"Months\")\n",
    "plt.ylabel(\"Profit\")\n"
   ]
  },
  {
   "cell_type": "code",
   "execution_count": null,
   "id": "a63493da",
   "metadata": {},
   "outputs": [],
   "source": [
    "# Area Chart\n",
    "#Sorted Coloumn Chart\n",
    "from matplotlib import pyplot as plt\n",
    "dfpivot = df.pivot_table(index = \"Month\",\n",
    "                       values = \"Profit\",\n",
    "              aggfunc = \"sum\")\n",
    "month_dict ={'January':1,'February':2,'March':3,'April':4,'May':5,'June':6,'July':7,'August':8,'September':9,'October':10,'November':11,'December':12}\n",
    "dftable = dfpivot.sort_values('Month', key = lambda x : x.apply(lambda x : month_dict[x]))\n",
    "dftable.plot.area()\n",
    "\n",
    "plt.title(\"Profit by Month\")\n",
    "plt.xlabel(\"Months\")\n",
    "plt.ylabel(\"Profit\")\n"
   ]
  },
  {
   "cell_type": "code",
   "execution_count": null,
   "id": "aa8eda0a",
   "metadata": {},
   "outputs": [],
   "source": [
    "#Saving a Chart\n",
    "#Sorted Coloumn Chart\n",
    "from matplotlib import pyplot as plt\n",
    "dfpivot = df.pivot_table(index = \"Month\",\n",
    "                       values = \"Profit\",\n",
    "              aggfunc = \"sum\")\n",
    "month_dict ={'January':1,'February':2,'March':3,'April':4,'May':5,'June':6,'July':7,'August':8,'September':9,'October':10,'November':11,'December':12}\n",
    "dftable = dfpivot.sort_values('Month', key = lambda x : x.apply(lambda x : month_dict[x]))\n",
    "dftable.plot.area()\n",
    "\n",
    "plt.title(\"Profit by Month\")\n",
    "plt.xlabel(\"Months\")\n",
    "plt.ylabel(\"Profit\")\n",
    "\n",
    "plt.savefig('Area Chart.png')"
   ]
  }
 ],
 "metadata": {
  "kernelspec": {
   "display_name": "Python 3 (ipykernel)",
   "language": "python",
   "name": "python3"
  },
  "language_info": {
   "codemirror_mode": {
    "name": "ipython",
    "version": 3
   },
   "file_extension": ".py",
   "mimetype": "text/x-python",
   "name": "python",
   "nbconvert_exporter": "python",
   "pygments_lexer": "ipython3",
   "version": "3.10.9"
  }
 },
 "nbformat": 4,
 "nbformat_minor": 5
}
