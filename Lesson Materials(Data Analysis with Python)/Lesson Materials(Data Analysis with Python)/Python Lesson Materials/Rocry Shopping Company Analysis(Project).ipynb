{
 "cells": [
  {
   "cell_type": "code",
   "execution_count": null,
   "id": "4f69dedd",
   "metadata": {},
   "outputs": [],
   "source": [
    "import pandas as pd\n",
    "df = pd.read_excel('RSC.xlsx')\n",
    "df\n",
    "del df['Status']\n",
    "df\n",
    "del df['unnamed1']\n",
    "df"
   ]
  },
  {
   "cell_type": "code",
   "execution_count": 228,
   "id": "522d2d50",
   "metadata": {},
   "outputs": [],
   "source": [
    "#Q1:Delete the empty columns (Status and unnamed1)\n"
   ]
  },
  {
   "cell_type": "code",
   "execution_count": null,
   "id": "8d2f134d",
   "metadata": {},
   "outputs": [],
   "source": [
    "#Q2: On the Gender Column, Replace the M and F to Male and Female Respectively\n",
    "df\n",
    "df['Gender'] =df['Gender'].str.replace('Malealeale',\"Male\")\n",
    "df\n",
    "\n",
    "df['Gender'] =df['Gender'].str.replace('Femaleemale',\"Female\")\n",
    "df\n"
   ]
  },
  {
   "cell_type": "code",
   "execution_count": null,
   "id": "9e036f4e",
   "metadata": {},
   "outputs": [],
   "source": [
    "#Q3: On the Marital Status Column, replace 0 and 1 to Single and Married respectively\n",
    "df['Marital_Status']= df['Marital_Status'].astype(str)\n",
    "df['Marital_Status']= df['Marital_Status'].str.replace('0','Single')\n",
    "df\n",
    "df['Marital_Status']= df['Marital_Status'].str.replace('1','Married')\n",
    "df"
   ]
  },
  {
   "cell_type": "markdown",
   "id": "986be564",
   "metadata": {},
   "source": [
    "##### Some Orders were Unsuccessful i.e., incomplete. They are the ones with empty records in the Amount Columns."
   ]
  },
  {
   "cell_type": "code",
   "execution_count": null,
   "id": "704ac113",
   "metadata": {},
   "outputs": [],
   "source": [
    "#Q4: Replace such empty cells with 0\n",
    "df\n",
    "df['Amount']=df['Amount'].fillna(0)\n",
    "df.head(10)\n",
    "dff=df\n",
    "dff"
   ]
  },
  {
   "cell_type": "markdown",
   "id": "fec7d817",
   "metadata": {},
   "source": [
    "### Using appropriate skill get the following information"
   ]
  },
  {
   "cell_type": "code",
   "execution_count": null,
   "id": "f3cf1513",
   "metadata": {},
   "outputs": [],
   "source": [
    "#Q5: Total number of Customers. Recall: Not Distinct; df['Cust_name'].count()\n",
    "dff\n",
    "dff['Cust_name'].nunique()"
   ]
  },
  {
   "cell_type": "code",
   "execution_count": null,
   "id": "534d2672",
   "metadata": {},
   "outputs": [],
   "source": [
    "#Sum of Orders by Occupation\n",
    "dff\n",
    "dff.pivot_table(index = \"Occupation\",\n",
    "               values = \"Orders\",\n",
    "              aggfunc = \"sum\")\n"
   ]
  },
  {
   "cell_type": "code",
   "execution_count": null,
   "id": "698054d3",
   "metadata": {},
   "outputs": [],
   "source": [
    "#To add Grand Total \n",
    "dff\n",
    "dff.pivot_table(index = \"Occupation\",\n",
    "               values = \"Orders\",\n",
    "              aggfunc = \"sum\",\n",
    "              margins = True,\n",
    "    margins_name = 'Grand Total')\n",
    "    "
   ]
  },
  {
   "cell_type": "code",
   "execution_count": null,
   "id": "0d746711",
   "metadata": {},
   "outputs": [],
   "source": [
    "#To sort by Occupation(A-Z)\n",
    "t=dff.pivot_table(index = \"Occupation\",\n",
    "               values = \"Orders\",\n",
    "              aggfunc = \"sum\")\n",
    "t.sort_values(by=['Occupation'], ascending = True)"
   ]
  },
  {
   "cell_type": "code",
   "execution_count": null,
   "id": "8344d55f",
   "metadata": {},
   "outputs": [],
   "source": [
    "#To sort by Orders(H-L)\n",
    "t=dff.pivot_table(index = \"Occupation\",\n",
    "               values = \"Orders\",\n",
    "              aggfunc = \"sum\")\n",
    "t.sort_values(by=['Orders'], ascending = False)"
   ]
  },
  {
   "cell_type": "code",
   "execution_count": null,
   "id": "cd4b819c",
   "metadata": {},
   "outputs": [],
   "source": [
    "#Q6: What Occupation placed the highest numbers of Orders and by what Sum of Orders\n",
    "Q6=dff.pivot_table(index = \"Occupation\",\n",
    "               values = \"Orders\",\n",
    "              aggfunc = \"sum\")\n",
    "\n",
    "Q6.sort_values(by=['Orders'], ascending = False)"
   ]
  },
  {
   "cell_type": "code",
   "execution_count": null,
   "id": "8448b71c",
   "metadata": {},
   "outputs": [],
   "source": [
    "#The Top 10 Product_Category by Sum of Amount \n",
    "S7=dff.pivot_table(index = \"Product_Category\",\n",
    "               values = \"Amount\",\n",
    "              aggfunc = \"sum\")\n",
    "\n",
    "S7.sort_values(by=['Amount'], ascending = False).head(10)"
   ]
  },
  {
   "cell_type": "code",
   "execution_count": null,
   "id": "193054db",
   "metadata": {},
   "outputs": [],
   "source": [
    "#Q7:The Top 10 Product_Category by Sum of Amount and the corresponding percentage of total\n",
    "S7=dff.pivot_table(index = \"Product_Category\",\n",
    "               values = \"Amount\",\n",
    "              aggfunc = \"sum\")\n",
    "\n",
    "S77=S7.sort_values(by=['Amount'], ascending = False).head(10)\n",
    "S77[\"%\"] = 100*S77['Amount']/S77['Amount'].sum()\n",
    "S77.round(0)\n"
   ]
  },
  {
   "cell_type": "code",
   "execution_count": null,
   "id": "1e2ec28a",
   "metadata": {},
   "outputs": [],
   "source": [
    "# Orders by Gender, Age Group \n",
    "dff.pivot_table(index = ['Gender', 'Age Group'],\n",
    "               values = \"Orders\",\n",
    "              aggfunc = \"sum\")"
   ]
  },
  {
   "cell_type": "code",
   "execution_count": null,
   "id": "82d3560f",
   "metadata": {},
   "outputs": [],
   "source": [
    "#Q8 What Age Group of Male and Female respectively placed the highest number of Orders \n",
    "#Sort Within Group with Orders from Highest to Lowest\n",
    "Q8=dff.pivot_table(index = ['Gender', 'Age Group'],\n",
    "               values = \"Orders\",\n",
    "              aggfunc = \"sum\")\n",
    "Q8.sort_values(['Gender','Orders'],ascending = False).groupby('Gender').head()"
   ]
  },
  {
   "cell_type": "code",
   "execution_count": 310,
   "id": "ccc1d391",
   "metadata": {},
   "outputs": [
    {
     "data": {
      "text/html": [
       "<div>\n",
       "<style scoped>\n",
       "    .dataframe tbody tr th:only-of-type {\n",
       "        vertical-align: middle;\n",
       "    }\n",
       "\n",
       "    .dataframe tbody tr th {\n",
       "        vertical-align: top;\n",
       "    }\n",
       "\n",
       "    .dataframe thead th {\n",
       "        text-align: right;\n",
       "    }\n",
       "</style>\n",
       "<table border=\"1\" class=\"dataframe\">\n",
       "  <thead>\n",
       "    <tr style=\"text-align: right;\">\n",
       "      <th></th>\n",
       "      <th></th>\n",
       "      <th>Orders</th>\n",
       "    </tr>\n",
       "    <tr>\n",
       "      <th>Gender</th>\n",
       "      <th>Age Group</th>\n",
       "      <th></th>\n",
       "    </tr>\n",
       "  </thead>\n",
       "  <tbody>\n",
       "    <tr>\n",
       "      <th rowspan=\"5\" valign=\"top\">Female</th>\n",
       "      <th>0-17</th>\n",
       "      <td>377</td>\n",
       "    </tr>\n",
       "    <tr>\n",
       "      <th>55+</th>\n",
       "      <td>698</td>\n",
       "    </tr>\n",
       "    <tr>\n",
       "      <th>51-55</th>\n",
       "      <td>1418</td>\n",
       "    </tr>\n",
       "    <tr>\n",
       "      <th>46-50</th>\n",
       "      <td>1682</td>\n",
       "    </tr>\n",
       "    <tr>\n",
       "      <th>18-25</th>\n",
       "      <td>3261</td>\n",
       "    </tr>\n",
       "    <tr>\n",
       "      <th rowspan=\"5\" valign=\"top\">Male</th>\n",
       "      <th>0-17</th>\n",
       "      <td>313</td>\n",
       "    </tr>\n",
       "    <tr>\n",
       "      <th>55+</th>\n",
       "      <td>379</td>\n",
       "    </tr>\n",
       "    <tr>\n",
       "      <th>46-50</th>\n",
       "      <td>697</td>\n",
       "    </tr>\n",
       "    <tr>\n",
       "      <th>51-55</th>\n",
       "      <td>698</td>\n",
       "    </tr>\n",
       "    <tr>\n",
       "      <th>18-25</th>\n",
       "      <td>1389</td>\n",
       "    </tr>\n",
       "  </tbody>\n",
       "</table>\n",
       "</div>"
      ],
      "text/plain": [
       "                  Orders\n",
       "Gender Age Group        \n",
       "Female 0-17          377\n",
       "       55+           698\n",
       "       51-55        1418\n",
       "       46-50        1682\n",
       "       18-25        3261\n",
       "Male   0-17          313\n",
       "       55+           379\n",
       "       46-50         697\n",
       "       51-55         698\n",
       "       18-25        1389"
      ]
     },
     "execution_count": 310,
     "metadata": {},
     "output_type": "execute_result"
    }
   ],
   "source": [
    "#Q8 What Age Group of Male and Female respectively placed the highest number of Orders \n",
    "#Sort Within Group with Orders from Lowest to Highest\n",
    "Q8=dff.pivot_table(index = ['Gender', 'Age Group'],\n",
    "               values = \"Orders\",\n",
    "              aggfunc = \"sum\")\n",
    "Q8.sort_values(['Gender','Orders']).groupby('Gender').head()"
   ]
  },
  {
   "cell_type": "code",
   "execution_count": null,
   "id": "cb1abd5b",
   "metadata": {},
   "outputs": [],
   "source": [
    "#Q9: What do you observe from your answer to Question 8\n",
    "# The First three Group age are same for both Genders."
   ]
  },
  {
   "cell_type": "markdown",
   "id": "19bfea6e",
   "metadata": {},
   "source": [
    "#### Q10: Sales by States across the Marital Status"
   ]
  },
  {
   "cell_type": "code",
   "execution_count": 312,
   "id": "73a0e0d0",
   "metadata": {},
   "outputs": [
    {
     "data": {
      "text/html": [
       "<div>\n",
       "<style scoped>\n",
       "    .dataframe tbody tr th:only-of-type {\n",
       "        vertical-align: middle;\n",
       "    }\n",
       "\n",
       "    .dataframe tbody tr th {\n",
       "        vertical-align: top;\n",
       "    }\n",
       "\n",
       "    .dataframe thead th {\n",
       "        text-align: right;\n",
       "    }\n",
       "</style>\n",
       "<table border=\"1\" class=\"dataframe\">\n",
       "  <thead>\n",
       "    <tr style=\"text-align: right;\">\n",
       "      <th>Marital_Status</th>\n",
       "      <th>Married</th>\n",
       "      <th>Single</th>\n",
       "      <th>Grand Total</th>\n",
       "    </tr>\n",
       "    <tr>\n",
       "      <th>State</th>\n",
       "      <th></th>\n",
       "      <th></th>\n",
       "      <th></th>\n",
       "    </tr>\n",
       "  </thead>\n",
       "  <tbody>\n",
       "    <tr>\n",
       "      <th>Andhra Pradesh</th>\n",
       "      <td>3304158.0</td>\n",
       "      <td>4732989.0</td>\n",
       "      <td>8037147.0</td>\n",
       "    </tr>\n",
       "    <tr>\n",
       "      <th>Bihar</th>\n",
       "      <td>1738712.0</td>\n",
       "      <td>2284045.0</td>\n",
       "      <td>4022757.0</td>\n",
       "    </tr>\n",
       "    <tr>\n",
       "      <th>Delhi</th>\n",
       "      <td>4895349.0</td>\n",
       "      <td>6708470.0</td>\n",
       "      <td>11603819.0</td>\n",
       "    </tr>\n",
       "    <tr>\n",
       "      <th>Gujarat</th>\n",
       "      <td>1500432.0</td>\n",
       "      <td>2445650.0</td>\n",
       "      <td>3946082.0</td>\n",
       "    </tr>\n",
       "    <tr>\n",
       "      <th>Haryana</th>\n",
       "      <td>1684843.0</td>\n",
       "      <td>2535332.0</td>\n",
       "      <td>4220175.0</td>\n",
       "    </tr>\n",
       "    <tr>\n",
       "      <th>Himachal Pradesh</th>\n",
       "      <td>2080988.0</td>\n",
       "      <td>2882380.0</td>\n",
       "      <td>4963368.0</td>\n",
       "    </tr>\n",
       "    <tr>\n",
       "      <th>Jharkhand</th>\n",
       "      <td>1302996.0</td>\n",
       "      <td>1723460.0</td>\n",
       "      <td>3026456.0</td>\n",
       "    </tr>\n",
       "    <tr>\n",
       "      <th>Karnataka</th>\n",
       "      <td>5717594.0</td>\n",
       "      <td>7805946.0</td>\n",
       "      <td>13523540.0</td>\n",
       "    </tr>\n",
       "    <tr>\n",
       "      <th>Kerala</th>\n",
       "      <td>1636445.0</td>\n",
       "      <td>2258047.0</td>\n",
       "      <td>3894492.0</td>\n",
       "    </tr>\n",
       "    <tr>\n",
       "      <th>Madhya Pradesh</th>\n",
       "      <td>3312371.0</td>\n",
       "      <td>4788771.0</td>\n",
       "      <td>8101142.0</td>\n",
       "    </tr>\n",
       "    <tr>\n",
       "      <th>Maharashtra</th>\n",
       "      <td>5890124.0</td>\n",
       "      <td>8537419.0</td>\n",
       "      <td>14427543.0</td>\n",
       "    </tr>\n",
       "    <tr>\n",
       "      <th>Punjab</th>\n",
       "      <td>682129.0</td>\n",
       "      <td>843671.0</td>\n",
       "      <td>1525800.0</td>\n",
       "    </tr>\n",
       "    <tr>\n",
       "      <th>Rajasthan</th>\n",
       "      <td>791429.0</td>\n",
       "      <td>1117980.0</td>\n",
       "      <td>1909409.0</td>\n",
       "    </tr>\n",
       "    <tr>\n",
       "      <th>Telangana</th>\n",
       "      <td>498873.0</td>\n",
       "      <td>652617.0</td>\n",
       "      <td>1151490.0</td>\n",
       "    </tr>\n",
       "    <tr>\n",
       "      <th>Uttar Pradesh</th>\n",
       "      <td>8158375.0</td>\n",
       "      <td>11216593.0</td>\n",
       "      <td>19374968.0</td>\n",
       "    </tr>\n",
       "    <tr>\n",
       "      <th>Uttarakhand</th>\n",
       "      <td>928928.0</td>\n",
       "      <td>1592016.0</td>\n",
       "      <td>2520944.0</td>\n",
       "    </tr>\n",
       "    <tr>\n",
       "      <th>Grand Total</th>\n",
       "      <td>44123746.0</td>\n",
       "      <td>62125386.0</td>\n",
       "      <td>106249132.0</td>\n",
       "    </tr>\n",
       "  </tbody>\n",
       "</table>\n",
       "</div>"
      ],
      "text/plain": [
       "Marital_Status       Married      Single  Grand Total\n",
       "State                                                \n",
       "Andhra Pradesh     3304158.0   4732989.0    8037147.0\n",
       "Bihar              1738712.0   2284045.0    4022757.0\n",
       "Delhi              4895349.0   6708470.0   11603819.0\n",
       "Gujarat            1500432.0   2445650.0    3946082.0\n",
       "Haryana            1684843.0   2535332.0    4220175.0\n",
       "Himachal Pradesh   2080988.0   2882380.0    4963368.0\n",
       "Jharkhand          1302996.0   1723460.0    3026456.0\n",
       "Karnataka          5717594.0   7805946.0   13523540.0\n",
       "Kerala             1636445.0   2258047.0    3894492.0\n",
       "Madhya Pradesh     3312371.0   4788771.0    8101142.0\n",
       "Maharashtra        5890124.0   8537419.0   14427543.0\n",
       "Punjab              682129.0    843671.0    1525800.0\n",
       "Rajasthan           791429.0   1117980.0    1909409.0\n",
       "Telangana           498873.0    652617.0    1151490.0\n",
       "Uttar Pradesh      8158375.0  11216593.0   19374968.0\n",
       "Uttarakhand         928928.0   1592016.0    2520944.0\n",
       "Grand Total       44123746.0  62125386.0  106249132.0"
      ]
     },
     "execution_count": 312,
     "metadata": {},
     "output_type": "execute_result"
    }
   ],
   "source": [
    "Q10=dff.pivot_table(index = ['State'],\n",
    "                   columns = ['Marital_Status'],\n",
    "               values = \"Amount\",\n",
    "              aggfunc = \"sum\",\n",
    "                   margins = True,\n",
    "    margins_name = 'Grand Total')\n",
    "\n",
    "Q10.round(0)\n"
   ]
  }
 ],
 "metadata": {
  "kernelspec": {
   "display_name": "Python 3 (ipykernel)",
   "language": "python",
   "name": "python3"
  },
  "language_info": {
   "codemirror_mode": {
    "name": "ipython",
    "version": 3
   },
   "file_extension": ".py",
   "mimetype": "text/x-python",
   "name": "python",
   "nbconvert_exporter": "python",
   "pygments_lexer": "ipython3",
   "version": "3.10.9"
  }
 },
 "nbformat": 4,
 "nbformat_minor": 5
}
