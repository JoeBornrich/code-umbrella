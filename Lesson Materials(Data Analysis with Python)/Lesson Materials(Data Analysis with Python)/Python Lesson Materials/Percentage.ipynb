{
 "cells": [
  {
   "cell_type": "code",
   "execution_count": null,
   "id": "191be2c9",
   "metadata": {},
   "outputs": [],
   "source": [
    "import pandas as pd\n",
    "data = pd.DataFrame({\n",
    "    \"Name\": ['Awesome', 'Jane', 'Emmanuel', 'Israel', 'Mensah', 'Mohammed', 'Alfred','Bobbi', 'Joyce','Juliet'],\n",
    "    \"Courses\": ['Power BI', 'Ms Excel', 'Tableau', 'Power BI', 'Tableau', 'Ms Excel','Ms Excel', 'Power BI', 'Power BI', 'Tableau'], \n",
    "    \"Actual Price\": [5000,3000,4500,5000,4500,3000,3000,5000,5000,4500]\n",
    "})\n",
    "data\n",
    "data[\"Promo Price\"] =data[\"Actual Price\"]*0.8\n",
    "data\n",
    "data[\"PD%\"] = (data[\"Actual Price\"]-data[\"Promo Price\"])*100/data[\"Actual Price\"]\n",
    "data\n",
    "#data[\"Actual Price\"].sum()\n",
    "data[\"PoT%\"] = data[\"Actual Price\"]*100/data[\"Actual Price\"].sum()\n",
    "data\n",
    "data = data.round(decimals=1)\n",
    "data\n",
    "#data.to_excel(\"Percentage Lesson.xlsx\", index=False)\n",
    "data"
   ]
  }
 ],
 "metadata": {
  "kernelspec": {
   "display_name": "Python 3 (ipykernel)",
   "language": "python",
   "name": "python3"
  },
  "language_info": {
   "codemirror_mode": {
    "name": "ipython",
    "version": 3
   },
   "file_extension": ".py",
   "mimetype": "text/x-python",
   "name": "python",
   "nbconvert_exporter": "python",
   "pygments_lexer": "ipython3",
   "version": "3.10.9"
  }
 },
 "nbformat": 4,
 "nbformat_minor": 5
}
