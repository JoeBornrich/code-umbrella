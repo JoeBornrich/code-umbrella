{
 "cells": [
  {
   "cell_type": "code",
   "execution_count": null,
   "id": "280e567e",
   "metadata": {},
   "outputs": [],
   "source": [
    "import pandas as pd\n",
    "df = pd.read_excel('Awesome Electronics.xlsx')\n",
    "df"
   ]
  },
  {
   "cell_type": "code",
   "execution_count": null,
   "id": "b7c2548d",
   "metadata": {},
   "outputs": [],
   "source": [
    "df.dtypes"
   ]
  },
  {
   "cell_type": "code",
   "execution_count": null,
   "id": "db9ebe51",
   "metadata": {},
   "outputs": [],
   "source": [
    "df.head(5)"
   ]
  },
  {
   "cell_type": "code",
   "execution_count": null,
   "id": "023ee13a",
   "metadata": {},
   "outputs": [],
   "source": [
    "df.tail(5)"
   ]
  },
  {
   "cell_type": "code",
   "execution_count": null,
   "id": "7fabe2bd",
   "metadata": {},
   "outputs": [],
   "source": [
    "#To check the number of Rows and Columns and basic properties\n",
    "#df.shape\n",
    "df.info()\n"
   ]
  },
  {
   "cell_type": "code",
   "execution_count": null,
   "id": "2612bcde",
   "metadata": {},
   "outputs": [],
   "source": [
    "#To read the details of each columns\n",
    "#df.Countries\n",
    "#df['Products']\n",
    "#df[['Countries','Products']]\n"
   ]
  },
  {
   "cell_type": "code",
   "execution_count": null,
   "id": "0a769bd2",
   "metadata": {},
   "outputs": [],
   "source": [
    "#To read the details of specific row\n",
    "df.iloc[0:3]\n",
    "df.iloc[1:4]"
   ]
  },
  {
   "cell_type": "code",
   "execution_count": null,
   "id": "672c9838",
   "metadata": {},
   "outputs": [],
   "source": [
    "#To read the details of specific location\n",
    "#df.iloc[1,3]\n",
    "df.iloc[2,2]"
   ]
  },
  {
   "cell_type": "code",
   "execution_count": null,
   "id": "f49b9419",
   "metadata": {},
   "outputs": [],
   "source": [
    "# Sorting\n",
    "#df.sort_values('Countries',ascending = False)\n",
    "df.sort_values(['Countries','Quantity'],ascending = [1,0])"
   ]
  },
  {
   "cell_type": "code",
   "execution_count": null,
   "id": "f29a5c7a",
   "metadata": {},
   "outputs": [],
   "source": [
    "df.loc[df['Countries']==\"Ghana\"]"
   ]
  },
  {
   "cell_type": "code",
   "execution_count": null,
   "id": "7bbc9abc",
   "metadata": {},
   "outputs": [],
   "source": [
    "df['Revenues'] = df['Quantity']*df['Revenue per product']\n",
    "df['Costs'] = df['Quantity']*df['Cost per product']\n",
    "df['Profit'] = df['Revenues']-df['Costs']\n",
    "df"
   ]
  },
  {
   "cell_type": "code",
   "execution_count": null,
   "id": "7534c1bf",
   "metadata": {},
   "outputs": [],
   "source": [
    "df.to_excel('AR Data.xlsx')\n",
    "df.to_excel('AR Data1.xlsx', index = False)"
   ]
  }
 ],
 "metadata": {
  "kernelspec": {
   "display_name": "Python 3 (ipykernel)",
   "language": "python",
   "name": "python3"
  },
  "language_info": {
   "codemirror_mode": {
    "name": "ipython",
    "version": 3
   },
   "file_extension": ".py",
   "mimetype": "text/x-python",
   "name": "python",
   "nbconvert_exporter": "python",
   "pygments_lexer": "ipython3",
   "version": "3.10.9"
  }
 },
 "nbformat": 4,
 "nbformat_minor": 5
}
