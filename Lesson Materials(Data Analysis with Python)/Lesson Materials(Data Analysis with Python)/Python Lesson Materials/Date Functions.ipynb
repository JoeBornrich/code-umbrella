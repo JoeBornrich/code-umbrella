{
 "cells": [
  {
   "cell_type": "code",
   "execution_count": null,
   "id": "93913814",
   "metadata": {},
   "outputs": [],
   "source": [
    "import pandas as pd\n",
    "df = pd.read_excel('Awesome Electronics.xlsx')\n",
    "df[\"M1\"]= df[\"Order Date\"].dt.strftime('%m')\n",
    "df\n",
    "df[\"M2\"]= df[\"Order Date\"].dt.month\n",
    "df\n",
    "df[\"Y1\"]= df[\"Order Date\"].dt.strftime('%Y')\n",
    "df\n",
    "df[\"Y2\"]= df[\"Order Date\"].dt.year\n",
    "df\n",
    "\n",
    "df[\"M3\"] = df[\"Order Date\"].apply(lambda x : x. strftime('%B'))\n",
    "df\n",
    "df[\"Y3\"] = df[\"Order Date\"].apply(lambda x : x. strftime('%Y'))\n",
    "df\n",
    "\n",
    "df[\"MY\"] = df[\"Order Date\"].apply(lambda x : x. strftime('%B-%Y'))\n",
    "df\n",
    "df[\"MY1\"] = df[\"Order Date\"].apply(lambda x : x. strftime('%Y-%B'))\n",
    "df"
   ]
  }
 ],
 "metadata": {
  "kernelspec": {
   "display_name": "Python 3 (ipykernel)",
   "language": "python",
   "name": "python3"
  },
  "language_info": {
   "codemirror_mode": {
    "name": "ipython",
    "version": 3
   },
   "file_extension": ".py",
   "mimetype": "text/x-python",
   "name": "python",
   "nbconvert_exporter": "python",
   "pygments_lexer": "ipython3",
   "version": "3.10.9"
  }
 },
 "nbformat": 4,
 "nbformat_minor": 5
}
