{
 "cells": [
  {
   "cell_type": "code",
   "execution_count": null,
   "id": "ba8a7f9f",
   "metadata": {},
   "outputs": [],
   "source": [
    "#Percentage of Total Within Group\n",
    "import pandas as pd\n",
    "#Create DataFrame\n",
    "pt=pd.DataFrame({'Club': ['Man U','Man U','Man U','Man U','Man U','Chelsea','Chelsea','Chelsea','Chelsea','Chelsea',],\n",
    "                'Points': [12,18,28,34,40,6,8,12,16,20]})\n",
    "#View DataFrame\n",
    "pt\n",
    "\n",
    "#To Calculate percentage of total points scored grouped by team\n",
    "pt['Team(%)'] = 100*pt['Points']/pt.groupby('Club')['Points'].transform('sum')\n",
    "#View updated DataFrame\n",
    "pt\n",
    "#Rounded to whole numbers\n",
    "pt.round(0)"
   ]
  }
 ],
 "metadata": {
  "kernelspec": {
   "display_name": "Python 3 (ipykernel)",
   "language": "python",
   "name": "python3"
  },
  "language_info": {
   "codemirror_mode": {
    "name": "ipython",
    "version": 3
   },
   "file_extension": ".py",
   "mimetype": "text/x-python",
   "name": "python",
   "nbconvert_exporter": "python",
   "pygments_lexer": "ipython3",
   "version": "3.10.9"
  }
 },
 "nbformat": 4,
 "nbformat_minor": 5
}
